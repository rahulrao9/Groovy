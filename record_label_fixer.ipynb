{
 "cells": [
  {
   "cell_type": "code",
   "execution_count": 21,
   "metadata": {},
   "outputs": [],
   "source": [
    "import sqlite3\n",
    "import pandas as pd\n",
    "# Import the recommendation functions\n",
    "from rec import get_recommendations, cal_scores\n",
    "\n",
    "db_path = 'hot100.db'\n",
    "\n",
    "table_name = 'hot100'\n",
    "\n",
    "with sqlite3.connect(db_path) as conn:\n",
    "    df = pd.read_sql(f\"SELECT * FROM {table_name};\", conn)"
   ]
  },
  {
   "cell_type": "code",
   "execution_count": 22,
   "metadata": {},
   "outputs": [],
   "source": [
    "cal_scores(df)"
   ]
  },
  {
   "cell_type": "code",
   "execution_count": 23,
   "metadata": {},
   "outputs": [
    {
     "name": "stdout",
     "output_type": "stream",
     "text": [
      "Top 10 Recommended Songs:\n",
      "1. Kendrick Lamar - Not Like Us (Score: 0.9336)\n",
      "2. Kendrick Lamar Featuring Lefty Gunplay - TV Off (Score: 0.9209)\n",
      "3. Kendrick Lamar - Squabble Up (Score: 0.5825)\n",
      "4. ROSE & Bruno Mars - APT. (Score: 0.4366)\n",
      "5. Lady Gaga & Bruno Mars - Die With A Smile (Score: 0.3421)\n",
      "6. Billie Eilish - Birds Of A Feather (Score: 0.2136)\n",
      "7. Sabrina Carpenter - Espresso (Score: 0.1508)\n",
      "8. Drake - Nokia (Score: 0.1170)\n",
      "9. Shaboozey - A Bar Song (Tipsy) (Score: 0.0857)\n",
      "10. Post Malone Featuring Morgan Wallen - I Had Some Help (Score: 0.0768)\n",
      "\n",
      "Top 5 New Songs to Try:\n",
      "d1f54212-1f19-450c-8479-a299b05ef991 1. Benson Boone - Beautiful Things\n",
      "c3a50de3-d5ef-4576-900b-e1b228b11d45 2. Morgan Wallen - Love Somebody\n",
      "9e0a60b7-5a1e-482b-977e-11fe9530e305 3. Chappell Roan - Pink Pony Club\n",
      "bcc31c63-ca0e-4b4b-bdf5-e2160af4fe46 4. The Weeknd & Playboi Carti - Timeless\n",
      "f2b892bf-899c-4a0f-8029-4023c62a2ad9 5. Lola Young - Messy\n",
      "\n",
      "Top Kendrick Lamar Songs Recommended:\n",
      "                                    artist         song  recommendation_score\n",
      "1                           Kendrick Lamar  Not Like Us              0.933599\n",
      "2   Kendrick Lamar Featuring Lefty Gunplay       TV Off              0.920943\n",
      "12                          Kendrick Lamar  Squabble Up              0.582515\n",
      "\n",
      "Top Pop Songs Recommended:\n",
      "                    artist              song  recommendation_score\n",
      "4        ROSE & Bruno Mars              APT.              0.436592\n",
      "0   Lady Gaga & Bruno Mars  Die With A Smile              0.342058\n",
      "16       Sabrina Carpenter          Espresso              0.150846\n"
     ]
    }
   ],
   "source": [
    "# 1. Get general recommendations\n",
    "top_recommendations = get_recommendations(df, n=10)\n",
    "print(\"Top 10 Recommended Songs:\")\n",
    "for rec in top_recommendations:\n",
    "    print(f\"{rec['rank']}. {rec['artist']} - {rec['song']} (Score: {rec['recommendation_score']:.4f})\")\n",
    "\n",
    "# 2. Get recommendations excluding songs already played\n",
    "new_recommendations = get_recommendations(df, n=5, exclude_played=True)\n",
    "print(\"\\nTop 5 New Songs to Try:\")\n",
    "for rec in new_recommendations:\n",
    "    print(f\"{rec['id']} {rec['rank']}. {rec['artist']} - {rec['song']}\")\n",
    "\n",
    "# 3. Get recommendations by artist\n",
    "kendrick_recs = get_recommendations_by_artist(df, \"Kendrick\", n=3)\n",
    "print(\"\\nTop Kendrick Lamar Songs Recommended:\")\n",
    "print(kendrick_recs)\n",
    "\n",
    "# 4. Get recommendations by genre/tag\n",
    "pop_recs = get_recommendations_by_tag(df, \"pop\", n=3)\n",
    "print(\"\\nTop Pop Songs Recommended:\")\n",
    "print(pop_recs)"
   ]
  }
 ],
 "metadata": {
  "kernelspec": {
   "display_name": "Python 3",
   "language": "python",
   "name": "python3"
  },
  "language_info": {
   "codemirror_mode": {
    "name": "ipython",
    "version": 3
   },
   "file_extension": ".py",
   "mimetype": "text/x-python",
   "name": "python",
   "nbconvert_exporter": "python",
   "pygments_lexer": "ipython3",
   "version": "3.11.0"
  }
 },
 "nbformat": 4,
 "nbformat_minor": 2
}
